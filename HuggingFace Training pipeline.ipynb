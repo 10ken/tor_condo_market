{
 "cells": [
  {
   "cell_type": "markdown",
   "id": "aa068dd9",
   "metadata": {},
   "source": [
    "## Basic Use"
   ]
  },
  {
   "cell_type": "code",
   "execution_count": null,
   "id": "05da94bd",
   "metadata": {},
   "outputs": [],
   "source": [
    "from transformers import pipeline\n",
    "\n",
    "# Example of using the pre-trained BERT model for sentiment analysis\n",
    "classifier = pipeline('sentiment-analysis')\n",
    "result = classifier(\"I love using Hugging Face in Python!\")\n",
    "print(result)"
   ]
  },
  {
   "cell_type": "markdown",
   "id": "79fd246a",
   "metadata": {},
   "source": [
    "## With Classes"
   ]
  },
  {
   "cell_type": "markdown",
   "id": "79ae9cfe",
   "metadata": {},
   "source": [
    "Step 1: Load and preprocess the IMDb dataset:\n",
    "First, let's load the IMDb dataset and preprocess it into a format suitable for fine-tuning."
   ]
  },
  {
   "cell_type": "code",
   "execution_count": null,
   "id": "eeb71621",
   "metadata": {},
   "outputs": [],
   "source": [
    "from transformers import BertTokenizer\n",
    "from torch.utils.data import DataLoader, Dataset\n",
    "\n",
    "# Load the IMDb dataset (you can replace this with your own dataset)\n",
    "# Assume the dataset is in the format: {'text': 'review text', 'label': 0 or 1}\n",
    "def load_imdb_dataset():\n",
    "    # Load and preprocess the dataset here (skipped for brevity)\n",
    "    # Replace this with your own dataset loading and preprocessing code\n",
    "    pass\n",
    "\n",
    "class CustomDataset(Dataset):\n",
    "    def __init__(self, tokenizer, data):\n",
    "        self.tokenizer = tokenizer\n",
    "        self.data = data\n",
    "\n",
    "    def __len__(self):\n",
    "        return len(self.data)\n",
    "\n",
    "    def __getitem__(self, idx):\n",
    "        text = self.data[idx]['text']\n",
    "        label = self.data[idx]['label']\n",
    "        encoding = self.tokenizer.encode_plus(\n",
    "            text,\n",
    "            add_special_tokens=True,\n",
    "            return_tensors='pt',\n",
    "            padding='max_length',\n",
    "            truncation=True,\n",
    "            max_length=128,\n",
    "        )\n",
    "        return {\n",
    "            'input_ids': encoding['input_ids'].flatten(),\n",
    "            'attention_mask': encoding['attention_mask'].flatten(),\n",
    "            'label': label,\n",
    "        }\n",
    "\n",
    "# Load the IMDb dataset and create DataLoader\n",
    "tokenizer = BertTokenizer.from_pretrained('bert-base-uncased')\n",
    "imdb_dataset = load_imdb_dataset()\n",
    "train_dataset = CustomDataset(tokenizer, imdb_dataset)\n",
    "train_dataloader = DataLoader(train_dataset, batch_size=32, shuffle=True)\n"
   ]
  },
  {
   "cell_type": "markdown",
   "id": "2f79fc8c",
   "metadata": {},
   "source": [
    "Step 2: Fine-tune the pre-trained BERT model:\n",
    "Next, we'll load the pre-trained BERT model and fine-tune it on the IMDb dataset using a simple sentiment classification task."
   ]
  },
  {
   "cell_type": "code",
   "execution_count": null,
   "id": "d1217a6c",
   "metadata": {},
   "outputs": [],
   "source": [
    "from transformers import BertForSequenceClassification, AdamW\n",
    "import torch\n",
    "\n",
    "# Load the pre-trained BERT model for sequence classification\n",
    "model = BertForSequenceClassification.from_pretrained('bert-base-uncased', num_labels=2)\n",
    "\n",
    "# Set up the optimizer and learning rate scheduler\n",
    "optimizer = AdamW(model.parameters(), lr=2e-5)\n",
    "num_epochs = 3\n",
    "\n",
    "# Fine-tuning loop\n",
    "model.train()\n",
    "device = torch.device('cuda' if torch.cuda.is_available() else 'cpu')\n",
    "model.to(device)\n",
    "\n",
    "for epoch in range(num_epochs):\n",
    "    total_loss = 0.0\n",
    "    for batch in train_dataloader:\n",
    "        input_ids = batch['input_ids'].to(device)\n",
    "        attention_mask = batch['attention_mask'].to(device)\n",
    "        labels = batch['label'].to(device)\n",
    "\n",
    "        optimizer.zero_grad()\n",
    "        outputs = model(input_ids=input_ids, attention_mask=attention_mask, labels=labels)\n",
    "        loss = outputs.loss\n",
    "        total_loss += loss.item()\n",
    "        \n",
    "        loss.backward()\n",
    "        optimizer.step()\n",
    "\n",
    "    print(f'Epoch {epoch + 1}/{num_epochs}, Loss: {total_loss}')\n"
   ]
  },
  {
   "cell_type": "markdown",
   "id": "30e9fae0",
   "metadata": {},
   "source": [
    "Step 3: Save the fine-tuned model (optional):\n",
    "You can save the fine-tuned model to use it later for inference:"
   ]
  },
  {
   "cell_type": "code",
   "execution_count": null,
   "id": "89c792d8",
   "metadata": {},
   "outputs": [],
   "source": [
    "model.save_pretrained('fine_tuned_model')\n"
   ]
  },
  {
   "cell_type": "markdown",
   "id": "93f3d075",
   "metadata": {},
   "source": [
    "Without Classes"
   ]
  },
  {
   "cell_type": "markdown",
   "id": "c2602389",
   "metadata": {},
   "source": [
    "Step 1: Load and preprocess the IMDb dataset:\n",
    "First, let's load the IMDb dataset and preprocess it, similar to what we did before."
   ]
  },
  {
   "cell_type": "code",
   "execution_count": null,
   "id": "6b97e10c",
   "metadata": {},
   "outputs": [],
   "source": [
    "from transformers import BertTokenizer\n",
    "from torch.utils.data import DataLoader, Dataset\n",
    "\n",
    "# Load the IMDb dataset and preprocess it (same as before)\n",
    "# Replace this with your own dataset loading and preprocessing code\n",
    "\n",
    "# Create DataLoader\n",
    "tokenizer = BertTokenizer.from_pretrained('bert-base-uncased')\n",
    "imdb_dataset = load_imdb_dataset()  # Assuming you've loaded the dataset similarly as before\n",
    "\n",
    "def encode_review(review):\n",
    "    encoding = tokenizer.encode_plus(\n",
    "        review,\n",
    "        add_special_tokens=True,\n",
    "        return_tensors='pt',\n",
    "        padding='max_length',\n",
    "        truncation=True,\n",
    "        max_length=128,\n",
    "    )\n",
    "    return encoding['input_ids'], encoding['attention_mask']\n",
    "\n",
    "train_input_ids = []\n",
    "train_attention_masks = []\n",
    "train_labels = []\n",
    "\n",
    "for example in imdb_dataset:\n",
    "    input_ids, attention_mask = encode_review(example['text'])\n",
    "    train_input_ids.append(input_ids)\n",
    "    train_attention_masks.append(attention_mask)\n",
    "    train_labels.append(example['label'])\n",
    "\n",
    "train_input_ids = torch.cat(train_input_ids, dim=0)\n",
    "train_attention_masks = torch.cat(train_attention_masks, dim=0)\n",
    "train_labels = torch.tensor(train_labels)\n",
    "train_dataset = torch.utils.data.TensorDataset(train_input_ids, train_attention_masks, train_labels)\n",
    "train_dataloader = DataLoader(train_dataset, batch_size=32, shuffle=True)\n"
   ]
  },
  {
   "cell_type": "markdown",
   "id": "953178b5",
   "metadata": {},
   "source": [
    "Step 2: Fine-tune the pre-trained BERT model:\n",
    "Next, we'll load the pre-trained BERT model and fine-tune it on the IMDb dataset, just like before, but this time without using classes."
   ]
  },
  {
   "cell_type": "code",
   "execution_count": null,
   "id": "b9b1f5e6",
   "metadata": {},
   "outputs": [],
   "source": [
    "from transformers import BertForSequenceClassification, AdamW\n",
    "import torch\n",
    "\n",
    "# Load the pre-trained BERT model for sequence classification\n",
    "model = BertForSequenceClassification.from_pretrained('bert-base-uncased', num_labels=2)\n",
    "\n",
    "# Set up the optimizer and learning rate scheduler\n",
    "optimizer = AdamW(model.parameters(), lr=2e-5)\n",
    "num_epochs = 3\n",
    "\n",
    "# Fine-tuning loop\n",
    "device = torch.device('cuda' if torch.cuda.is_available() else 'cpu')\n",
    "model.to(device)\n",
    "\n",
    "for epoch in range(num_epochs):\n",
    "    total_loss = 0.0\n",
    "    model.train()\n",
    "    \n",
    "    for batch in train_dataloader:\n",
    "        input_ids, attention_mask, labels = batch\n",
    "        input_ids, attention_mask, labels = input_ids.to(device), attention_mask.to(device), labels.to(device)\n",
    "        \n",
    "        optimizer.zero_grad()\n",
    "        outputs = model(input_ids=input_ids, attention_mask=attention_mask, labels=labels)\n",
    "        loss = outputs.loss\n",
    "        total_loss += loss.item()\n",
    "        \n",
    "        loss.backward()\n",
    "        optimizer.step()\n",
    "\n",
    "    print(f'Epoch {epoch + 1}/{num_epochs}, Loss: {total_loss}')\n"
   ]
  },
  {
   "cell_type": "markdown",
   "id": "14b8d2d8",
   "metadata": {},
   "source": [
    "Step 3: Save the fine-tuned model (optional):\n",
    "You can save the fine-tuned model using the same method as before:"
   ]
  },
  {
   "cell_type": "code",
   "execution_count": null,
   "id": "fb147bc5",
   "metadata": {},
   "outputs": [],
   "source": [
    "model.save_pretrained('fine_tuned_model')\n"
   ]
  },
  {
   "cell_type": "code",
   "execution_count": null,
   "id": "1c1ab2c4",
   "metadata": {},
   "outputs": [],
   "source": []
  }
 ],
 "metadata": {
  "kernelspec": {
   "display_name": "Python 3 (ipykernel)",
   "language": "python",
   "name": "python3"
  },
  "language_info": {
   "codemirror_mode": {
    "name": "ipython",
    "version": 3
   },
   "file_extension": ".py",
   "mimetype": "text/x-python",
   "name": "python",
   "nbconvert_exporter": "python",
   "pygments_lexer": "ipython3",
   "version": "3.9.7"
  }
 },
 "nbformat": 4,
 "nbformat_minor": 5
}
